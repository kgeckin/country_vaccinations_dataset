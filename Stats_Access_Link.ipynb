{
  "nbformat": 4,
  "nbformat_minor": 0,
  "metadata": {
    "colab": {
      "provenance": [],
      "authorship_tag": "ABX9TyNPs4r5E7210CXYvSsulwVO"
    },
    "kernelspec": {
      "name": "python3",
      "display_name": "Python 3"
    },
    "language_info": {
      "name": "python"
    }
  },
  "cells": [
    {
      "cell_type": "markdown",
      "source": [
        "## Stats_Access_Link \n",
        "\n",
        "---\n",
        "\n"
      ],
      "metadata": {
        "id": "Wvq3JzKWvZzH"
      }
    },
    {
      "cell_type": "markdown",
      "source": [
        "Assume any database includes below columns and you are requested to process Stats_Access_Link column and extract pure url information inside per device type. \n",
        "\n",
        "Rules: \n",
        "-   Xml tags and protocol parts is guaranteed to be lower case  \n",
        "-   Access link part that we are interested in can have alpha-numeric, case insensitive characters, underscore ( _ ) character and dot ( . ) character only.  \n",
        "\n",
        "What would you use for this task, please write your detailed answer with exact solution? Please  provide the link to your code as answer to this question \n",
        "\n",
        "Example: for the device type AXO145, we would like to get xcd32112.smart_meter.com regardless from its access protocol is SSL secured or not."
      ],
      "metadata": {
        "id": "VID6WUlLvN_V"
      }
    },
    {
      "cell_type": "code",
      "execution_count": 3,
      "metadata": {
        "id": "HuYHaJwzu_cx"
      },
      "outputs": [],
      "source": [
        "# import the necessary libraries\n",
        "import pandas as pd\n",
        "import re\n",
        "\n",
        "# create a DataFrame \n",
        "data = {\n",
        "    'Device_Type': ['AXO145', 'BZO234', 'AXO145', 'CZO456', 'BZO234'],\n",
        "    'Stats_Access_Link': [\n",
        "        '<xml>https://abcd1234.smart_meter.com/path/to/resource</xml>',\n",
        "        'http://efgh5678.smart_meter.com/path/to/resource',\n",
        "        'https://ijkl9012.smart_meter.com/path/to/resource',\n",
        "        '<xml>http://mnop3456.smart_meter.com/path/to/resource</xml>',\n",
        "        'https://qrst7890.smart_meter.com/path/to/resource']\n",
        "}\n",
        "df = pd.DataFrame(data)\n"
      ]
    },
    {
      "cell_type": "markdown",
      "source": [
        "In the next step, we define a regular expression pattern:"
      ],
      "metadata": {
        "id": "9KK-C3Wwv5OC"
      }
    },
    {
      "cell_type": "code",
      "source": [
        "pattern = re.compile(r'(https?://[a-z0-9_.]+\\.smart_meter\\.com)', re.IGNORECASE)\n",
        "\n",
        "# The \"re.IGNORECASE\" makes the pattern case-insensitive via the pattern that https?://[a-z0-9_.]+\\.smart_meter\\.com"
      ],
      "metadata": {
        "id": "xulw0U_YvM0O"
      },
      "execution_count": 9,
      "outputs": []
    },
    {
      "cell_type": "markdown",
      "source": [
        "Next, we define a function that takes a device type and returns the corresponding pure URL information:"
      ],
      "metadata": {
        "id": "GgmeOy-8wKzm"
      }
    },
    {
      "cell_type": "code",
      "source": [
        "def extract_url(device_type):\n",
        "    urls = []\n",
        "    for link in df.loc[df['Device_Type'] == device_type, 'Stats_Access_Link']:\n",
        "        match = pattern.search(link)\n",
        "        if match:\n",
        "            urls.append(match.group(1))\n",
        "    return urls\n"
      ],
      "metadata": {
        "id": "R3kYszoixeRL"
      },
      "execution_count": 5,
      "outputs": []
    },
    {
      "cell_type": "markdown",
      "source": [
        "This function uses boolean indexing to select DataFrame rows corresponding to the given device type. It then looks for a regular expression pattern match for each access link in those lines. If a match is found, it adds the matching substring to a list. Finally, it returns the list of URLs."
      ],
      "metadata": {
        "id": "4GhtCMPxxhVf"
      }
    },
    {
      "cell_type": "code",
      "source": [
        "urls = extract_url('AXO145')\n",
        "print(urls) "
      ],
      "metadata": {
        "colab": {
          "base_uri": "https://localhost:8080/"
        },
        "id": "yq3cHYf-yIVb",
        "outputId": "956e8aba-8412-4813-fbcb-e9e860a04347"
      },
      "execution_count": 11,
      "outputs": [
        {
          "output_type": "stream",
          "name": "stdout",
          "text": [
            "['https://abcd1234.smart_meter.com', 'https://ijkl9012.smart_meter.com']\n"
          ]
        }
      ]
    }
  ]
}
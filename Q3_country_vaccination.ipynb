{
  "nbformat": 4,
  "nbformat_minor": 0,
  "metadata": {
    "colab": {
      "provenance": [],
      "authorship_tag": "ABX9TyMD4yHQTJtnEo68bzdHPb/q"
    },
    "kernelspec": {
      "name": "python3",
      "display_name": "Python 3"
    },
    "language_info": {
      "name": "python"
    }
  },
  "cells": [
    {
      "cell_type": "markdown",
      "source": [
        "## **Question 3** \n",
        "\n",
        "---\n",
        "\n"
      ],
      "metadata": {
        "id": "T7GiiHmUjYol"
      }
    },
    {
      "cell_type": "markdown",
      "source": [
        "> What is the number of total vaccinations done on 1/6/2021 (MM/DD/YYYY) by considering missing values imputed version of dataset? Please  just provide the number as answer.\n"
      ],
      "metadata": {
        "id": "9TmJf18Fjdqg"
      }
    },
    {
      "cell_type": "code",
      "source": [
        "import plotly.express as px\n",
        "import pandas as pd\n",
        "import datetime\n",
        "import numpy as np\n",
        "\n",
        "df = pd.read_csv('/content/country_vaccination_stats.csv')\n",
        "df['daily_vaccinations'] = df.groupby('country')['daily_vaccinations'].apply(lambda x: x.fillna(x.min()))\n",
        "df['daily_vaccinations'] = df['daily_vaccinations'].fillna(0)"
      ],
      "metadata": {
        "id": "NSf2wuSVjpRy"
      },
      "execution_count": 2,
      "outputs": []
    },
    {
      "cell_type": "code",
      "execution_count": 3,
      "metadata": {
        "colab": {
          "base_uri": "https://localhost:8080/"
        },
        "id": "YgMIPlxhjWbc",
        "outputId": "ec30e43f-3f42-4ada-ea74-d13f9252bfb4"
      },
      "outputs": [
        {
          "output_type": "execute_result",
          "data": {
            "text/plain": [
              "1485255.0"
            ]
          },
          "metadata": {},
          "execution_count": 3
        }
      ],
      "source": [
        "total_vaccinations = df[df['date'] == '1/6/2021']['daily_vaccinations']\n",
        "total_vaccinations.sum()"
      ]
    }
  ]
}